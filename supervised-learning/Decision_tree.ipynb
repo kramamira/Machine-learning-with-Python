{
 "cells": [
  {
   "cell_type": "markdown",
   "metadata": {},
   "source": [
    "# Exo N°01 "
   ]
  },
  {
   "cell_type": "code",
   "execution_count": 80,
   "metadata": {},
   "outputs": [],
   "source": [
    "import numpy as np\n",
    "import pandas as pd\n",
    "import matplotlib.pyplot as plt\n"
   ]
  },
  {
   "cell_type": "code",
   "execution_count": 81,
   "metadata": {},
   "outputs": [],
   "source": [
    "from sklearn.tree import DecisionTreeClassifier"
   ]
  },
  {
   "cell_type": "code",
   "execution_count": 3,
   "metadata": {},
   "outputs": [
    {
     "name": "stderr",
     "output_type": "stream",
     "text": [
      "C:\\Users\\Amira-pc\\Anaconda3\\lib\\site-packages\\ipykernel_launcher.py:1: ParserWarning: Falling back to the 'python' engine because the 'c' engine does not support regex separators (separators > 1 char and different from '\\s+' are interpreted as regex); you can avoid this warning by specifying engine='python'.\n",
      "  \"\"\"Entry point for launching an IPython kernel.\n"
     ]
    }
   ],
   "source": [
    "tennis = pd.read_csv('tennum.txt', sep='  ')"
   ]
  },
  {
   "cell_type": "code",
   "execution_count": 82,
   "metadata": {},
   "outputs": [
    {
     "data": {
      "text/html": [
       "<div>\n",
       "<style scoped>\n",
       "    .dataframe tbody tr th:only-of-type {\n",
       "        vertical-align: middle;\n",
       "    }\n",
       "\n",
       "    .dataframe tbody tr th {\n",
       "        vertical-align: top;\n",
       "    }\n",
       "\n",
       "    .dataframe thead th {\n",
       "        text-align: right;\n",
       "    }\n",
       "</style>\n",
       "<table border=\"1\" class=\"dataframe\">\n",
       "  <thead>\n",
       "    <tr style=\"text-align: right;\">\n",
       "      <th></th>\n",
       "      <th>Ciel</th>\n",
       "      <th>Temperature</th>\n",
       "      <th>Humidite</th>\n",
       "      <th>Vent</th>\n",
       "      <th>Jouer</th>\n",
       "    </tr>\n",
       "  </thead>\n",
       "  <tbody>\n",
       "    <tr>\n",
       "      <th>1</th>\n",
       "      <td>Ensoleille</td>\n",
       "      <td>27.5</td>\n",
       "      <td>85</td>\n",
       "      <td>Faible</td>\n",
       "      <td>Non</td>\n",
       "    </tr>\n",
       "    <tr>\n",
       "      <th>2</th>\n",
       "      <td>Ensoleille</td>\n",
       "      <td>25.0</td>\n",
       "      <td>90</td>\n",
       "      <td>Fort</td>\n",
       "      <td>Non</td>\n",
       "    </tr>\n",
       "    <tr>\n",
       "      <th>3</th>\n",
       "      <td>Couvert</td>\n",
       "      <td>26.5</td>\n",
       "      <td>86</td>\n",
       "      <td>Faible</td>\n",
       "      <td>Oui</td>\n",
       "    </tr>\n",
       "    <tr>\n",
       "      <th>4</th>\n",
       "      <td>Pluie</td>\n",
       "      <td>20.0</td>\n",
       "      <td>96</td>\n",
       "      <td>Faible</td>\n",
       "      <td>Oui</td>\n",
       "    </tr>\n",
       "    <tr>\n",
       "      <th>5</th>\n",
       "      <td>Pluie</td>\n",
       "      <td>19.0</td>\n",
       "      <td>80</td>\n",
       "      <td>Faible</td>\n",
       "      <td>Oui</td>\n",
       "    </tr>\n",
       "    <tr>\n",
       "      <th>6</th>\n",
       "      <td>Pluie</td>\n",
       "      <td>17.5</td>\n",
       "      <td>70</td>\n",
       "      <td>Fort</td>\n",
       "      <td>Non</td>\n",
       "    </tr>\n",
       "    <tr>\n",
       "      <th>7</th>\n",
       "      <td>Couvert</td>\n",
       "      <td>17.0</td>\n",
       "      <td>65</td>\n",
       "      <td>Fort</td>\n",
       "      <td>Oui</td>\n",
       "    </tr>\n",
       "    <tr>\n",
       "      <th>8</th>\n",
       "      <td>Ensoleille</td>\n",
       "      <td>21.0</td>\n",
       "      <td>95</td>\n",
       "      <td>Faible</td>\n",
       "      <td>Non</td>\n",
       "    </tr>\n",
       "    <tr>\n",
       "      <th>9</th>\n",
       "      <td>Ensoleille</td>\n",
       "      <td>19.5</td>\n",
       "      <td>70</td>\n",
       "      <td>Faible</td>\n",
       "      <td>Oui</td>\n",
       "    </tr>\n",
       "    <tr>\n",
       "      <th>10</th>\n",
       "      <td>Pluie</td>\n",
       "      <td>22.5</td>\n",
       "      <td>80</td>\n",
       "      <td>Faible</td>\n",
       "      <td>Oui</td>\n",
       "    </tr>\n",
       "    <tr>\n",
       "      <th>11</th>\n",
       "      <td>Ensoleille</td>\n",
       "      <td>22.5</td>\n",
       "      <td>70</td>\n",
       "      <td>Fort</td>\n",
       "      <td>Oui</td>\n",
       "    </tr>\n",
       "    <tr>\n",
       "      <th>12</th>\n",
       "      <td>Couvert</td>\n",
       "      <td>21.0</td>\n",
       "      <td>90</td>\n",
       "      <td>Fort</td>\n",
       "      <td>Oui</td>\n",
       "    </tr>\n",
       "    <tr>\n",
       "      <th>13</th>\n",
       "      <td>Couvert</td>\n",
       "      <td>25.5</td>\n",
       "      <td>75</td>\n",
       "      <td>Faible</td>\n",
       "      <td>Oui</td>\n",
       "    </tr>\n",
       "    <tr>\n",
       "      <th>14</th>\n",
       "      <td>Pluie</td>\n",
       "      <td>20.5</td>\n",
       "      <td>91</td>\n",
       "      <td>Fort</td>\n",
       "      <td>Non</td>\n",
       "    </tr>\n",
       "  </tbody>\n",
       "</table>\n",
       "</div>"
      ],
      "text/plain": [
       "          Ciel  Temperature  Humidite    Vent Jouer\n",
       "1   Ensoleille         27.5        85  Faible   Non\n",
       "2   Ensoleille         25.0        90    Fort   Non\n",
       "3      Couvert         26.5        86  Faible   Oui\n",
       "4        Pluie         20.0        96  Faible   Oui\n",
       "5        Pluie         19.0        80  Faible   Oui\n",
       "6        Pluie         17.5        70    Fort   Non\n",
       "7      Couvert         17.0        65    Fort   Oui\n",
       "8   Ensoleille         21.0        95  Faible   Non\n",
       "9   Ensoleille         19.5        70  Faible   Oui\n",
       "10       Pluie         22.5        80  Faible   Oui\n",
       "11  Ensoleille         22.5        70    Fort   Oui\n",
       "12     Couvert         21.0        90    Fort   Oui\n",
       "13     Couvert         25.5        75  Faible   Oui\n",
       "14       Pluie         20.5        91    Fort   Non"
      ]
     },
     "execution_count": 82,
     "metadata": {},
     "output_type": "execute_result"
    }
   ],
   "source": [
    "tennis"
   ]
  },
  {
   "cell_type": "code",
   "execution_count": 133,
   "metadata": {},
   "outputs": [
    {
     "data": {
      "text/plain": [
       "(14, 5)"
      ]
     },
     "execution_count": 133,
     "metadata": {},
     "output_type": "execute_result"
    }
   ],
   "source": [
    "tennis.shape"
   ]
  },
  {
   "cell_type": "code",
   "execution_count": 142,
   "metadata": {},
   "outputs": [
    {
     "data": {
      "text/plain": [
       "DecisionTreeClassifier(ccp_alpha=0.0, class_weight=None, criterion='entropy',\n",
       "                       max_depth=None, max_features=None, max_leaf_nodes=None,\n",
       "                       min_impurity_decrease=0.0, min_impurity_split=None,\n",
       "                       min_samples_leaf=1, min_samples_split=2,\n",
       "                       min_weight_fraction_leaf=0.0, presort='deprecated',\n",
       "                       random_state=None, splitter='best')"
      ]
     },
     "execution_count": 142,
     "metadata": {},
     "output_type": "execute_result"
    }
   ],
   "source": [
    "from sklearn.model_selection import train_test_split \n",
    "from sklearn import tree \n",
    "from sklearn.preprocessing import LabelEncoder, OneHotEncoder\n",
    "\n",
    "X = tennis.iloc[:,:-1]\n",
    "Y = tennis.iloc[:,4]\n",
    "labelEncoder_X = LabelEncoder()\n",
    "X['Ciel']= labelEncoder_X.fit_transform(X['Ciel'])\n",
    "X['Temperateur']= labelEncoder_X.fit_transform(X['Temperature'])\n",
    "X['Humidite']= labelEncoder_X.fit_transform(X['Humidite'])\n",
    "X['Vent']= labelEncoder_X.fit_transform(X['Vent'])\n",
    "\n",
    "labelEncoder_Y = LabelEncoder()\n",
    "Y= labelEncoder_Y.fit_transform(Y)\n",
    "\n",
    "classifier = DecisionTreeClassifier(criterion='entropy',min_samples_split=2)\n",
    "classifier.fit(X,Y) "
   ]
  },
  {
   "cell_type": "code",
   "execution_count": 143,
   "metadata": {},
   "outputs": [
    {
     "data": {
      "image/png": "[encoded data removed]",
      "text/plain": [
       "<Figure size 432x288 with 1 Axes>"
      ]
     },
     "metadata": {
      "needs_background": "light"
     },
     "output_type": "display_data"
    }
   ],
   "source": [
    "from sklearn.tree import plot_tree \n",
    "plot_tree(classifier, filled=True)\n",
    "plt.show()"
   ]
  },
  {
   "cell_type": "code",
   "execution_count": 144,
   "metadata": {},
   "outputs": [
    {
     "data": {
      "image/png": "[encoded data removed]",
      "text/plain": [
       "<Figure size 432x288 with 1 Axes>"
      ]
     },
     "metadata": {
      "needs_background": "light"
     },
     "output_type": "display_data"
    }
   ],
   "source": [
    "\n",
    "classifier1 = DecisionTreeClassifier(criterion='entropy',min_samples_split=5)\n",
    "classifier1.fit(X,Y) \n",
    "plot_tree(classifier1, filled=True)\n",
    "plt.show()"
   ]
  },
  {
   "cell_type": "code",
   "execution_count": 146,
   "metadata": {},
   "outputs": [
    {
     "data": {
      "image/png": "[encoded data removed]",
      "text/plain": [
       "<Figure size 432x288 with 1 Axes>"
      ]
     },
     "metadata": {
      "needs_background": "light"
     },
     "output_type": "display_data"
    }
   ],
   "source": [
    "\n",
    "classifier2 = DecisionTreeClassifier(criterion='entropy',min_samples_split=20)\n",
    "classifier2.fit(X,Y) \n",
    "plot_tree(classifier2, filled=True)\n",
    "plt.show()"
   ]
  },
  {
   "cell_type": "code",
   "execution_count": 207,
   "metadata": {},
   "outputs": [
    {
     "name": "stdout",
     "output_type": "stream",
     "text": [
      "Requirement already satisfied: pydotplus in c:\\users\\amira-pc\\anaconda3\\lib\\site-packages (2.0.2)\n",
      "Requirement already satisfied: pyparsing>=2.0.1 in c:\\users\\amira-pc\\anaconda3\\lib\\site-packages (from pydotplus) (2.4.6)\n"
     ]
    }
   ],
   "source": [
    "!pip install pydotplus"
   ]
  },
  {
   "cell_type": "code",
   "execution_count": 215,
   "metadata": {},
   "outputs": [
    {
     "name": "stdout",
     "output_type": "stream",
     "text": [
      "Requirement already satisfied: Pillow in c:\\users\\amira-pc\\anaconda3\\lib\\site-packages (7.0.0)\n",
      "Note: you may need to restart the kernel to use updated packages.\n"
     ]
    }
   ],
   "source": [
    "pip install Pillow"
   ]
  },
  {
   "cell_type": "code",
   "execution_count": 21,
   "metadata": {},
   "outputs": [
    {
     "name": "stdout",
     "output_type": "stream",
     "text": [
      "Requirement already satisfied: GraphViz in c:\\users\\amira-pc\\anaconda3\\lib\\site-packages (0.14)\n",
      "Note: you may need to restart the kernel to use updated packages.\n"
     ]
    }
   ],
   "source": [
    "pip install GraphViz\n"
   ]
  },
  {
   "cell_type": "markdown",
   "metadata": {},
   "source": [
    "# Exo N°02 "
   ]
  },
  {
   "cell_type": "code",
   "execution_count": 148,
   "metadata": {},
   "outputs": [],
   "source": [
    "import pandas as pd\n",
    "from sklearn.datasets import load_iris\n",
    "data = load_iris()\n",
    "df = pd.DataFrame(data.data, columns=data.feature_names)\n",
    "df['target'] = data.target"
   ]
  },
  {
   "cell_type": "code",
   "execution_count": 149,
   "metadata": {},
   "outputs": [
    {
     "data": {
      "text/html": [
       "<div>\n",
       "<style scoped>\n",
       "    .dataframe tbody tr th:only-of-type {\n",
       "        vertical-align: middle;\n",
       "    }\n",
       "\n",
       "    .dataframe tbody tr th {\n",
       "        vertical-align: top;\n",
       "    }\n",
       "\n",
       "    .dataframe thead th {\n",
       "        text-align: right;\n",
       "    }\n",
       "</style>\n",
       "<table border=\"1\" class=\"dataframe\">\n",
       "  <thead>\n",
       "    <tr style=\"text-align: right;\">\n",
       "      <th></th>\n",
       "      <th>sepal length (cm)</th>\n",
       "      <th>sepal width (cm)</th>\n",
       "      <th>petal length (cm)</th>\n",
       "      <th>petal width (cm)</th>\n",
       "      <th>target</th>\n",
       "    </tr>\n",
       "  </thead>\n",
       "  <tbody>\n",
       "    <tr>\n",
       "      <th>0</th>\n",
       "      <td>5.1</td>\n",
       "      <td>3.5</td>\n",
       "      <td>1.4</td>\n",
       "      <td>0.2</td>\n",
       "      <td>0</td>\n",
       "    </tr>\n",
       "    <tr>\n",
       "      <th>1</th>\n",
       "      <td>4.9</td>\n",
       "      <td>3.0</td>\n",
       "      <td>1.4</td>\n",
       "      <td>0.2</td>\n",
       "      <td>0</td>\n",
       "    </tr>\n",
       "    <tr>\n",
       "      <th>2</th>\n",
       "      <td>4.7</td>\n",
       "      <td>3.2</td>\n",
       "      <td>1.3</td>\n",
       "      <td>0.2</td>\n",
       "      <td>0</td>\n",
       "    </tr>\n",
       "    <tr>\n",
       "      <th>3</th>\n",
       "      <td>4.6</td>\n",
       "      <td>3.1</td>\n",
       "      <td>1.5</td>\n",
       "      <td>0.2</td>\n",
       "      <td>0</td>\n",
       "    </tr>\n",
       "    <tr>\n",
       "      <th>4</th>\n",
       "      <td>5.0</td>\n",
       "      <td>3.6</td>\n",
       "      <td>1.4</td>\n",
       "      <td>0.2</td>\n",
       "      <td>0</td>\n",
       "    </tr>\n",
       "  </tbody>\n",
       "</table>\n",
       "</div>"
      ],
      "text/plain": [
       "   sepal length (cm)  sepal width (cm)  petal length (cm)  petal width (cm)  \\\n",
       "0                5.1               3.5                1.4               0.2   \n",
       "1                4.9               3.0                1.4               0.2   \n",
       "2                4.7               3.2                1.3               0.2   \n",
       "3                4.6               3.1                1.5               0.2   \n",
       "4                5.0               3.6                1.4               0.2   \n",
       "\n",
       "   target  \n",
       "0       0  \n",
       "1       0  \n",
       "2       0  \n",
       "3       0  \n",
       "4       0  "
      ]
     },
     "execution_count": 149,
     "metadata": {},
     "output_type": "execute_result"
    }
   ],
   "source": [
    "df.head()"
   ]
  },
  {
   "cell_type": "code",
   "execution_count": 150,
   "metadata": {},
   "outputs": [],
   "source": [
    "X = df.iloc[:,:-1]\n",
    "y = df['target']"
   ]
  },
  {
   "cell_type": "code",
   "execution_count": 151,
   "metadata": {},
   "outputs": [
    {
     "data": {
      "image/png": "[encoded data removed]",
      "text/plain": [
       "<Figure size 432x288 with 1 Axes>"
      ]
     },
     "metadata": {
      "needs_background": "light"
     },
     "output_type": "display_data"
    }
   ],
   "source": [
    "\n",
    "Treeclassifier = DecisionTreeClassifier(criterion='entropy', random_state=0).fit(X, y)\n",
    "\n",
    "plot_tree(Treeclassifier, filled=True)\n",
    "plt.show()"
   ]
  },
  {
   "cell_type": "markdown",
   "metadata": {},
   "source": [
    "# Exo N°03 \n"
   ]
  },
  {
   "cell_type": "code",
   "execution_count": 152,
   "metadata": {},
   "outputs": [],
   "source": [
    "credit = pd.read_csv(\"credit.csv\", sep=',')"
   ]
  },
  {
   "cell_type": "code",
   "execution_count": 153,
   "metadata": {},
   "outputs": [
    {
     "data": {
      "text/plain": [
       "'    checking_balance  months_loan_duration credit_history     purpose  amount  \\\\\\n0             < 0 DM                     6       critical    radio/tv    1169   \\n1         1 - 200 DM                    48         repaid    radio/tv    5951   \\n2            unknown                    12       critical   education    2096   \\n3             < 0 DM                    42         repaid   furniture    7882   \\n4             < 0 DM                    24        delayed   car (new)    4870   \\n..               ...                   ...            ...         ...     ...   \\n995          unknown                    12         repaid   furniture    1736   \\n996           < 0 DM                    30         repaid  car (used)    3857   \\n997          unknown                    12         repaid    radio/tv     804   \\n998           < 0 DM                    45         repaid    radio/tv    1845   \\n999       1 - 200 DM                    45       critical  car (used)    4576   \\n\\n    savings_balance employment_length  installment_rate personal_status  \\\\\\n0           unknown           > 7 yrs                 4     single male   \\n1          < 100 DM         1 - 4 yrs                 2          female   \\n2          < 100 DM         4 - 7 yrs                 2     single male   \\n3          < 100 DM         4 - 7 yrs                 2     single male   \\n4          < 100 DM         1 - 4 yrs                 3     single male   \\n..              ...               ...               ...             ...   \\n995        < 100 DM         4 - 7 yrs                 3          female   \\n996        < 100 DM         1 - 4 yrs                 4   divorced male   \\n997        < 100 DM           > 7 yrs                 4     single male   \\n998        < 100 DM         1 - 4 yrs                 4     single male   \\n999    101 - 500 DM        unemployed                 3     single male   \\n\\n    other_debtors  ...                  property age  installment_plan  \\\\\\n0            none  ...               real estate  67              none   \\n1            none  ...               real estate  22              none   \\n2            none  ...               real estate  49              none   \\n3       guarantor  ...  building society savings  45              none   \\n4            none  ...              unknown/none  53              none   \\n..            ...  ...                       ...  ..               ...   \\n995          none  ...               real estate  31              none   \\n996          none  ...  building society savings  40              none   \\n997          none  ...                     other  38              none   \\n998          none  ...              unknown/none  23              none   \\n999          none  ...                     other  27              none   \\n\\n      housing existing_credits                      job dependents  telephone  \\\\\\n0         own                2         skilled employee          1        yes   \\n1         own                1         skilled employee          1       none   \\n2         own                1       unskilled resident          2       none   \\n3    for free                1         skilled employee          2       none   \\n4    for free                2         skilled employee          2       none   \\n..        ...              ...                      ...        ...        ...   \\n995       own                1       unskilled resident          1       none   \\n996       own                1  mangement self-employed          1        yes   \\n997       own                1         skilled employee          1       none   \\n998  for free                1         skilled employee          1        yes   \\n999       own                1         skilled employee          1       none   \\n\\n    foreign_worker default  \\n0              yes       1  \\n1              yes       2  \\n2              yes       1  \\n3              yes       1  \\n4              yes       2  \\n..             ...     ...  \\n995            yes       1  \\n996            yes       1  \\n997            yes       1  \\n998            yes       2  \\n999            yes       1  \\n\\n[1000 rows x 21 columns]'"
      ]
     },
     "execution_count": 153,
     "metadata": {},
     "output_type": "execute_result"
    }
   ],
   "source": [
    "str(credit)"
   ]
  },
  {
   "cell_type": "code",
   "execution_count": 154,
   "metadata": {},
   "outputs": [
    {
     "data": {
      "text/plain": [
       "(1000, 21)"
      ]
     },
     "execution_count": 154,
     "metadata": {},
     "output_type": "execute_result"
    }
   ],
   "source": [
    "credit.shape"
   ]
  },
  {
   "cell_type": "code",
   "execution_count": 155,
   "metadata": {},
   "outputs": [
    {
     "data": {
      "text/plain": [
       "unknown       394\n",
       "< 0 DM        274\n",
       "1 - 200 DM    269\n",
       "> 200 DM       63\n",
       "Name: checking_balance, dtype: int64"
      ]
     },
     "execution_count": 155,
     "metadata": {},
     "output_type": "execute_result"
    }
   ],
   "source": [
    "credit.checking_balance.value_counts()"
   ]
  },
  {
   "cell_type": "code",
   "execution_count": 156,
   "metadata": {},
   "outputs": [
    {
     "data": {
      "text/plain": [
       "< 100 DM         603\n",
       "unknown          183\n",
       "101 - 500 DM     103\n",
       "501 - 1000 DM     63\n",
       "> 1000 DM         48\n",
       "Name: savings_balance, dtype: int64"
      ]
     },
     "execution_count": 156,
     "metadata": {},
     "output_type": "execute_result"
    }
   ],
   "source": [
    "credit.savings_balance.value_counts()"
   ]
  },
  {
   "cell_type": "code",
   "execution_count": 157,
   "metadata": {},
   "outputs": [
    {
     "data": {
      "text/plain": [
       "count    1000.000000\n",
       "mean       20.903000\n",
       "std        12.058814\n",
       "min         4.000000\n",
       "25%        12.000000\n",
       "50%        18.000000\n",
       "75%        24.000000\n",
       "max        72.000000\n",
       "Name: months_loan_duration, dtype: float64"
      ]
     },
     "execution_count": 157,
     "metadata": {},
     "output_type": "execute_result"
    }
   ],
   "source": [
    "credit['months_loan_duration'].describe()"
   ]
  },
  {
   "cell_type": "code",
   "execution_count": 158,
   "metadata": {},
   "outputs": [
    {
     "data": {
      "text/plain": [
       "count     1000.000000\n",
       "mean      3271.258000\n",
       "std       2822.736876\n",
       "min        250.000000\n",
       "25%       1365.500000\n",
       "50%       2319.500000\n",
       "75%       3972.250000\n",
       "max      18424.000000\n",
       "Name: amount, dtype: float64"
      ]
     },
     "execution_count": 158,
     "metadata": {},
     "output_type": "execute_result"
    }
   ],
   "source": [
    "credit['amount'].describe()"
   ]
  },
  {
   "cell_type": "code",
   "execution_count": 159,
   "metadata": {},
   "outputs": [
    {
     "data": {
      "text/plain": [
       "1    700\n",
       "2    300\n",
       "Name: default, dtype: int64"
      ]
     },
     "execution_count": 159,
     "metadata": {},
     "output_type": "execute_result"
    }
   ],
   "source": [
    "credit.default.value_counts()"
   ]
  },
  {
   "cell_type": "code",
   "execution_count": 160,
   "metadata": {},
   "outputs": [],
   "source": [
    "from sklearn.model_selection import train_test_split"
   ]
  },
  {
   "cell_type": "code",
   "execution_count": 161,
   "metadata": {},
   "outputs": [],
   "source": [
    "X = credit.iloc[:,:-1]\n",
    "y = credit.iloc[:, 20]"
   ]
  },
  {
   "cell_type": "code",
   "execution_count": 162,
   "metadata": {},
   "outputs": [
    {
     "data": {
      "text/html": [
       "<div>\n",
       "<style scoped>\n",
       "    .dataframe tbody tr th:only-of-type {\n",
       "        vertical-align: middle;\n",
       "    }\n",
       "\n",
       "    .dataframe tbody tr th {\n",
       "        vertical-align: top;\n",
       "    }\n",
       "\n",
       "    .dataframe thead th {\n",
       "        text-align: right;\n",
       "    }\n",
       "</style>\n",
       "<table border=\"1\" class=\"dataframe\">\n",
       "  <thead>\n",
       "    <tr style=\"text-align: right;\">\n",
       "      <th></th>\n",
       "      <th>checking_balance</th>\n",
       "      <th>months_loan_duration</th>\n",
       "      <th>credit_history</th>\n",
       "      <th>purpose</th>\n",
       "      <th>amount</th>\n",
       "      <th>savings_balance</th>\n",
       "      <th>employment_length</th>\n",
       "      <th>installment_rate</th>\n",
       "      <th>personal_status</th>\n",
       "      <th>other_debtors</th>\n",
       "      <th>residence_history</th>\n",
       "      <th>property</th>\n",
       "      <th>age</th>\n",
       "      <th>installment_plan</th>\n",
       "      <th>housing</th>\n",
       "      <th>existing_credits</th>\n",
       "      <th>job</th>\n",
       "      <th>dependents</th>\n",
       "      <th>telephone</th>\n",
       "      <th>foreign_worker</th>\n",
       "    </tr>\n",
       "  </thead>\n",
       "  <tbody>\n",
       "    <tr>\n",
       "      <th>0</th>\n",
       "      <td>&lt; 0 DM</td>\n",
       "      <td>6</td>\n",
       "      <td>critical</td>\n",
       "      <td>radio/tv</td>\n",
       "      <td>1169</td>\n",
       "      <td>unknown</td>\n",
       "      <td>&gt; 7 yrs</td>\n",
       "      <td>4</td>\n",
       "      <td>single male</td>\n",
       "      <td>none</td>\n",
       "      <td>4</td>\n",
       "      <td>real estate</td>\n",
       "      <td>67</td>\n",
       "      <td>none</td>\n",
       "      <td>own</td>\n",
       "      <td>2</td>\n",
       "      <td>skilled employee</td>\n",
       "      <td>1</td>\n",
       "      <td>yes</td>\n",
       "      <td>yes</td>\n",
       "    </tr>\n",
       "    <tr>\n",
       "      <th>1</th>\n",
       "      <td>1 - 200 DM</td>\n",
       "      <td>48</td>\n",
       "      <td>repaid</td>\n",
       "      <td>radio/tv</td>\n",
       "      <td>5951</td>\n",
       "      <td>&lt; 100 DM</td>\n",
       "      <td>1 - 4 yrs</td>\n",
       "      <td>2</td>\n",
       "      <td>female</td>\n",
       "      <td>none</td>\n",
       "      <td>2</td>\n",
       "      <td>real estate</td>\n",
       "      <td>22</td>\n",
       "      <td>none</td>\n",
       "      <td>own</td>\n",
       "      <td>1</td>\n",
       "      <td>skilled employee</td>\n",
       "      <td>1</td>\n",
       "      <td>none</td>\n",
       "      <td>yes</td>\n",
       "    </tr>\n",
       "    <tr>\n",
       "      <th>2</th>\n",
       "      <td>unknown</td>\n",
       "      <td>12</td>\n",
       "      <td>critical</td>\n",
       "      <td>education</td>\n",
       "      <td>2096</td>\n",
       "      <td>&lt; 100 DM</td>\n",
       "      <td>4 - 7 yrs</td>\n",
       "      <td>2</td>\n",
       "      <td>single male</td>\n",
       "      <td>none</td>\n",
       "      <td>3</td>\n",
       "      <td>real estate</td>\n",
       "      <td>49</td>\n",
       "      <td>none</td>\n",
       "      <td>own</td>\n",
       "      <td>1</td>\n",
       "      <td>unskilled resident</td>\n",
       "      <td>2</td>\n",
       "      <td>none</td>\n",
       "      <td>yes</td>\n",
       "    </tr>\n",
       "    <tr>\n",
       "      <th>3</th>\n",
       "      <td>&lt; 0 DM</td>\n",
       "      <td>42</td>\n",
       "      <td>repaid</td>\n",
       "      <td>furniture</td>\n",
       "      <td>7882</td>\n",
       "      <td>&lt; 100 DM</td>\n",
       "      <td>4 - 7 yrs</td>\n",
       "      <td>2</td>\n",
       "      <td>single male</td>\n",
       "      <td>guarantor</td>\n",
       "      <td>4</td>\n",
       "      <td>building society savings</td>\n",
       "      <td>45</td>\n",
       "      <td>none</td>\n",
       "      <td>for free</td>\n",
       "      <td>1</td>\n",
       "      <td>skilled employee</td>\n",
       "      <td>2</td>\n",
       "      <td>none</td>\n",
       "      <td>yes</td>\n",
       "    </tr>\n",
       "    <tr>\n",
       "      <th>4</th>\n",
       "      <td>&lt; 0 DM</td>\n",
       "      <td>24</td>\n",
       "      <td>delayed</td>\n",
       "      <td>car (new)</td>\n",
       "      <td>4870</td>\n",
       "      <td>&lt; 100 DM</td>\n",
       "      <td>1 - 4 yrs</td>\n",
       "      <td>3</td>\n",
       "      <td>single male</td>\n",
       "      <td>none</td>\n",
       "      <td>4</td>\n",
       "      <td>unknown/none</td>\n",
       "      <td>53</td>\n",
       "      <td>none</td>\n",
       "      <td>for free</td>\n",
       "      <td>2</td>\n",
       "      <td>skilled employee</td>\n",
       "      <td>2</td>\n",
       "      <td>none</td>\n",
       "      <td>yes</td>\n",
       "    </tr>\n",
       "    <tr>\n",
       "      <th>...</th>\n",
       "      <td>...</td>\n",
       "      <td>...</td>\n",
       "      <td>...</td>\n",
       "      <td>...</td>\n",
       "      <td>...</td>\n",
       "      <td>...</td>\n",
       "      <td>...</td>\n",
       "      <td>...</td>\n",
       "      <td>...</td>\n",
       "      <td>...</td>\n",
       "      <td>...</td>\n",
       "      <td>...</td>\n",
       "      <td>...</td>\n",
       "      <td>...</td>\n",
       "      <td>...</td>\n",
       "      <td>...</td>\n",
       "      <td>...</td>\n",
       "      <td>...</td>\n",
       "      <td>...</td>\n",
       "      <td>...</td>\n",
       "    </tr>\n",
       "    <tr>\n",
       "      <th>995</th>\n",
       "      <td>unknown</td>\n",
       "      <td>12</td>\n",
       "      <td>repaid</td>\n",
       "      <td>furniture</td>\n",
       "      <td>1736</td>\n",
       "      <td>&lt; 100 DM</td>\n",
       "      <td>4 - 7 yrs</td>\n",
       "      <td>3</td>\n",
       "      <td>female</td>\n",
       "      <td>none</td>\n",
       "      <td>4</td>\n",
       "      <td>real estate</td>\n",
       "      <td>31</td>\n",
       "      <td>none</td>\n",
       "      <td>own</td>\n",
       "      <td>1</td>\n",
       "      <td>unskilled resident</td>\n",
       "      <td>1</td>\n",
       "      <td>none</td>\n",
       "      <td>yes</td>\n",
       "    </tr>\n",
       "    <tr>\n",
       "      <th>996</th>\n",
       "      <td>&lt; 0 DM</td>\n",
       "      <td>30</td>\n",
       "      <td>repaid</td>\n",
       "      <td>car (used)</td>\n",
       "      <td>3857</td>\n",
       "      <td>&lt; 100 DM</td>\n",
       "      <td>1 - 4 yrs</td>\n",
       "      <td>4</td>\n",
       "      <td>divorced male</td>\n",
       "      <td>none</td>\n",
       "      <td>4</td>\n",
       "      <td>building society savings</td>\n",
       "      <td>40</td>\n",
       "      <td>none</td>\n",
       "      <td>own</td>\n",
       "      <td>1</td>\n",
       "      <td>mangement self-employed</td>\n",
       "      <td>1</td>\n",
       "      <td>yes</td>\n",
       "      <td>yes</td>\n",
       "    </tr>\n",
       "    <tr>\n",
       "      <th>997</th>\n",
       "      <td>unknown</td>\n",
       "      <td>12</td>\n",
       "      <td>repaid</td>\n",
       "      <td>radio/tv</td>\n",
       "      <td>804</td>\n",
       "      <td>&lt; 100 DM</td>\n",
       "      <td>&gt; 7 yrs</td>\n",
       "      <td>4</td>\n",
       "      <td>single male</td>\n",
       "      <td>none</td>\n",
       "      <td>4</td>\n",
       "      <td>other</td>\n",
       "      <td>38</td>\n",
       "      <td>none</td>\n",
       "      <td>own</td>\n",
       "      <td>1</td>\n",
       "      <td>skilled employee</td>\n",
       "      <td>1</td>\n",
       "      <td>none</td>\n",
       "      <td>yes</td>\n",
       "    </tr>\n",
       "    <tr>\n",
       "      <th>998</th>\n",
       "      <td>&lt; 0 DM</td>\n",
       "      <td>45</td>\n",
       "      <td>repaid</td>\n",
       "      <td>radio/tv</td>\n",
       "      <td>1845</td>\n",
       "      <td>&lt; 100 DM</td>\n",
       "      <td>1 - 4 yrs</td>\n",
       "      <td>4</td>\n",
       "      <td>single male</td>\n",
       "      <td>none</td>\n",
       "      <td>4</td>\n",
       "      <td>unknown/none</td>\n",
       "      <td>23</td>\n",
       "      <td>none</td>\n",
       "      <td>for free</td>\n",
       "      <td>1</td>\n",
       "      <td>skilled employee</td>\n",
       "      <td>1</td>\n",
       "      <td>yes</td>\n",
       "      <td>yes</td>\n",
       "    </tr>\n",
       "    <tr>\n",
       "      <th>999</th>\n",
       "      <td>1 - 200 DM</td>\n",
       "      <td>45</td>\n",
       "      <td>critical</td>\n",
       "      <td>car (used)</td>\n",
       "      <td>4576</td>\n",
       "      <td>101 - 500 DM</td>\n",
       "      <td>unemployed</td>\n",
       "      <td>3</td>\n",
       "      <td>single male</td>\n",
       "      <td>none</td>\n",
       "      <td>4</td>\n",
       "      <td>other</td>\n",
       "      <td>27</td>\n",
       "      <td>none</td>\n",
       "      <td>own</td>\n",
       "      <td>1</td>\n",
       "      <td>skilled employee</td>\n",
       "      <td>1</td>\n",
       "      <td>none</td>\n",
       "      <td>yes</td>\n",
       "    </tr>\n",
       "  </tbody>\n",
       "</table>\n",
       "<p>1000 rows × 20 columns</p>\n",
       "</div>"
      ],
      "text/plain": [
       "    checking_balance  months_loan_duration credit_history     purpose  amount  \\\n",
       "0             < 0 DM                     6       critical    radio/tv    1169   \n",
       "1         1 - 200 DM                    48         repaid    radio/tv    5951   \n",
       "2            unknown                    12       critical   education    2096   \n",
       "3             < 0 DM                    42         repaid   furniture    7882   \n",
       "4             < 0 DM                    24        delayed   car (new)    4870   \n",
       "..               ...                   ...            ...         ...     ...   \n",
       "995          unknown                    12         repaid   furniture    1736   \n",
       "996           < 0 DM                    30         repaid  car (used)    3857   \n",
       "997          unknown                    12         repaid    radio/tv     804   \n",
       "998           < 0 DM                    45         repaid    radio/tv    1845   \n",
       "999       1 - 200 DM                    45       critical  car (used)    4576   \n",
       "\n",
       "    savings_balance employment_length  installment_rate personal_status  \\\n",
       "0           unknown           > 7 yrs                 4     single male   \n",
       "1          < 100 DM         1 - 4 yrs                 2          female   \n",
       "2          < 100 DM         4 - 7 yrs                 2     single male   \n",
       "3          < 100 DM         4 - 7 yrs                 2     single male   \n",
       "4          < 100 DM         1 - 4 yrs                 3     single male   \n",
       "..              ...               ...               ...             ...   \n",
       "995        < 100 DM         4 - 7 yrs                 3          female   \n",
       "996        < 100 DM         1 - 4 yrs                 4   divorced male   \n",
       "997        < 100 DM           > 7 yrs                 4     single male   \n",
       "998        < 100 DM         1 - 4 yrs                 4     single male   \n",
       "999    101 - 500 DM        unemployed                 3     single male   \n",
       "\n",
       "    other_debtors  residence_history                  property  age  \\\n",
       "0            none                  4               real estate   67   \n",
       "1            none                  2               real estate   22   \n",
       "2            none                  3               real estate   49   \n",
       "3       guarantor                  4  building society savings   45   \n",
       "4            none                  4              unknown/none   53   \n",
       "..            ...                ...                       ...  ...   \n",
       "995          none                  4               real estate   31   \n",
       "996          none                  4  building society savings   40   \n",
       "997          none                  4                     other   38   \n",
       "998          none                  4              unknown/none   23   \n",
       "999          none                  4                     other   27   \n",
       "\n",
       "    installment_plan   housing  existing_credits                      job  \\\n",
       "0               none       own                 2         skilled employee   \n",
       "1               none       own                 1         skilled employee   \n",
       "2               none       own                 1       unskilled resident   \n",
       "3               none  for free                 1         skilled employee   \n",
       "4               none  for free                 2         skilled employee   \n",
       "..               ...       ...               ...                      ...   \n",
       "995             none       own                 1       unskilled resident   \n",
       "996             none       own                 1  mangement self-employed   \n",
       "997             none       own                 1         skilled employee   \n",
       "998             none  for free                 1         skilled employee   \n",
       "999             none       own                 1         skilled employee   \n",
       "\n",
       "     dependents telephone foreign_worker  \n",
       "0             1       yes            yes  \n",
       "1             1      none            yes  \n",
       "2             2      none            yes  \n",
       "3             2      none            yes  \n",
       "4             2      none            yes  \n",
       "..          ...       ...            ...  \n",
       "995           1      none            yes  \n",
       "996           1       yes            yes  \n",
       "997           1      none            yes  \n",
       "998           1       yes            yes  \n",
       "999           1      none            yes  \n",
       "\n",
       "[1000 rows x 20 columns]"
      ]
     },
     "execution_count": 162,
     "metadata": {},
     "output_type": "execute_result"
    }
   ],
   "source": [
    "X"
   ]
  },
  {
   "cell_type": "code",
   "execution_count": 163,
   "metadata": {},
   "outputs": [],
   "source": [
    "X_train, X_test, y_train, y_test = train_test_split(X, y, test_size = 0.1 , random_state=0)"
   ]
  },
  {
   "cell_type": "code",
   "execution_count": 171,
   "metadata": {},
   "outputs": [],
   "source": [
    "Z=y_train.value_counts()"
   ]
  },
  {
   "cell_type": "code",
   "execution_count": 172,
   "metadata": {},
   "outputs": [
    {
     "data": {
      "text/plain": [
       "1    625\n",
       "2    275\n",
       "Name: default, dtype: int64"
      ]
     },
     "execution_count": 172,
     "metadata": {},
     "output_type": "execute_result"
    }
   ],
   "source": [
    "Z"
   ]
  },
  {
   "cell_type": "code",
   "execution_count": 174,
   "metadata": {},
   "outputs": [
    {
     "data": {
      "text/html": [
       "<div>\n",
       "<style scoped>\n",
       "    .dataframe tbody tr th:only-of-type {\n",
       "        vertical-align: middle;\n",
       "    }\n",
       "\n",
       "    .dataframe tbody tr th {\n",
       "        vertical-align: top;\n",
       "    }\n",
       "\n",
       "    .dataframe thead th {\n",
       "        text-align: right;\n",
       "    }\n",
       "</style>\n",
       "<table border=\"1\" class=\"dataframe\">\n",
       "  <thead>\n",
       "    <tr style=\"text-align: right;\">\n",
       "      <th>col_0</th>\n",
       "      <th>count</th>\n",
       "    </tr>\n",
       "    <tr>\n",
       "      <th>default</th>\n",
       "      <th></th>\n",
       "    </tr>\n",
       "  </thead>\n",
       "  <tbody>\n",
       "    <tr>\n",
       "      <th>275</th>\n",
       "      <td>1</td>\n",
       "    </tr>\n",
       "    <tr>\n",
       "      <th>625</th>\n",
       "      <td>1</td>\n",
       "    </tr>\n",
       "  </tbody>\n",
       "</table>\n",
       "</div>"
      ],
      "text/plain": [
       "col_0    count\n",
       "default       \n",
       "275          1\n",
       "625          1"
      ]
     },
     "execution_count": 174,
     "metadata": {},
     "output_type": "execute_result"
    }
   ],
   "source": [
    "pd.crosstab(Z, columns=\"count\")"
   ]
  },
  {
   "cell_type": "code",
   "execution_count": 175,
   "metadata": {},
   "outputs": [
    {
     "data": {
      "text/plain": [
       "1    0.694444\n",
       "2    0.305556\n",
       "Name: default, dtype: float64"
      ]
     },
     "execution_count": 175,
     "metadata": {},
     "output_type": "execute_result"
    }
   ],
   "source": [
    "Z/Z.sum()"
   ]
  },
  {
   "cell_type": "code",
   "execution_count": 176,
   "metadata": {},
   "outputs": [
    {
     "data": {
      "text/plain": [
       "1    75\n",
       "2    25\n",
       "Name: default, dtype: int64"
      ]
     },
     "execution_count": 176,
     "metadata": {},
     "output_type": "execute_result"
    }
   ],
   "source": [
    "Z=y_test.value_counts()\n",
    "Z"
   ]
  },
  {
   "cell_type": "code",
   "execution_count": 177,
   "metadata": {},
   "outputs": [
    {
     "data": {
      "text/plain": [
       "1    0.75\n",
       "2    0.25\n",
       "Name: default, dtype: float64"
      ]
     },
     "execution_count": 177,
     "metadata": {},
     "output_type": "execute_result"
    }
   ],
   "source": [
    "Z/Z.sum()"
   ]
  },
  {
   "cell_type": "code",
   "execution_count": 155,
   "metadata": {},
   "outputs": [
    {
     "name": "stdout",
     "output_type": "stream",
     "text": [
      "Collecting rpy2\n",
      "  Downloading rpy2-3.3.3.tar.gz (173 kB)\n",
      "Requirement already satisfied: pytest in c:\\users\\amira-pc\\anaconda3\\lib\\site-packages (from rpy2) (5.3.5)\n",
      "Requirement already satisfied: jinja2 in c:\\users\\amira-pc\\anaconda3\\lib\\site-packages (from rpy2) (2.11.1)\n",
      "Requirement already satisfied: pytz in c:\\users\\amira-pc\\anaconda3\\lib\\site-packages (from rpy2) (2019.3)\n",
      "Collecting tzlocal\n",
      "  Downloading tzlocal-2.1-py2.py3-none-any.whl (16 kB)\n",
      "Requirement already satisfied: cffi>=1.10.0 in c:\\users\\amira-pc\\anaconda3\\lib\\site-packages (from rpy2) (1.14.0)\n",
      "Requirement already satisfied: py>=1.5.0 in c:\\users\\amira-pc\\anaconda3\\lib\\site-packages (from pytest->rpy2) (1.8.1)\n",
      "Requirement already satisfied: packaging in c:\\users\\amira-pc\\anaconda3\\lib\\site-packages (from pytest->rpy2) (20.1)\n",
      "Requirement already satisfied: attrs>=17.4.0 in c:\\users\\amira-pc\\anaconda3\\lib\\site-packages (from pytest->rpy2) (19.3.0)\n",
      "Requirement already satisfied: more-itertools>=4.0.0 in c:\\users\\amira-pc\\anaconda3\\lib\\site-packages (from pytest->rpy2) (8.2.0)\n",
      "Requirement already satisfied: pluggy<1.0,>=0.12 in c:\\users\\amira-pc\\anaconda3\\lib\\site-packages (from pytest->rpy2) (0.13.1)\n",
      "Requirement already satisfied: wcwidth in c:\\users\\amira-pc\\anaconda3\\lib\\site-packages (from pytest->rpy2) (0.1.8)\n",
      "Requirement already satisfied: importlib-metadata>=0.12 in c:\\users\\amira-pc\\anaconda3\\lib\\site-packages (from pytest->rpy2) (1.5.0)\n",
      "Requirement already satisfied: atomicwrites>=1.0 in c:\\users\\amira-pc\\anaconda3\\lib\\site-packages (from pytest->rpy2) (1.3.0)\n",
      "Requirement already satisfied: colorama in c:\\users\\amira-pc\\anaconda3\\lib\\site-packages (from pytest->rpy2) (0.4.3)\n",
      "Requirement already satisfied: MarkupSafe>=0.23 in c:\\users\\amira-pc\\anaconda3\\lib\\site-packages (from jinja2->rpy2) (1.1.1)\n",
      "Requirement already satisfied: pycparser in c:\\users\\amira-pc\\anaconda3\\lib\\site-packages (from cffi>=1.10.0->rpy2) (2.19)\n",
      "Requirement already satisfied: pyparsing>=2.0.2 in c:\\users\\amira-pc\\anaconda3\\lib\\site-packages (from packaging->pytest->rpy2) (2.4.6)\n",
      "Requirement already satisfied: six in c:\\users\\amira-pc\\anaconda3\\lib\\site-packages (from packaging->pytest->rpy2) (1.14.0)\n",
      "Requirement already satisfied: zipp>=0.5 in c:\\users\\amira-pc\\anaconda3\\lib\\site-packages (from importlib-metadata>=0.12->pytest->rpy2) (2.2.0)\n",
      "Building wheels for collected packages: rpy2\n",
      "  Building wheel for rpy2 (setup.py): started\n",
      "  Building wheel for rpy2 (setup.py): finished with status 'done'\n",
      "  Created wheel for rpy2: filename=rpy2-3.3.3-py3-none-any.whl size=183400 sha256=cfcf1aeca60800225a256a3fa8bb125c4f25d5b3cfbc90127e11f1e4ec3707c9\n",
      "  Stored in directory: c:\\users\\amira-pc\\appdata\\local\\pip\\cache\\wheels\\de\\30\\b2\\316f1a3703ab8ddb8208e30414991afefb0b5b814139b732af\n",
      "Successfully built rpy2\n",
      "Installing collected packages: tzlocal, rpy2\n",
      "Successfully installed rpy2-3.3.3 tzlocal-2.1\n",
      "Note: you may need to restart the kernel to use updated packages.\n"
     ]
    }
   ],
   "source": [
    "pip install rpy2"
   ]
  },
  {
   "cell_type": "markdown",
   "metadata": {},
   "source": [
    "Qestion 10 i didn't find backage C50"
   ]
  },
  {
   "cell_type": "code",
   "execution_count": 35,
   "metadata": {},
   "outputs": [],
   "source": [
    "C50 = importr('C50')    \n",
    "C5_0 = robjects.r('C5.0')\n",
    "from rpy2.robjects import pandas2ri\n",
    "from rpy2.robjects import r\n",
    "pandas2ri.activate()"
   ]
  },
  {
   "cell_type": "code",
   "execution_count": null,
   "metadata": {},
   "outputs": [],
   "source": [
    "X = credit.iloc[:,:-1].values\n",
    "y = credit.iloc[:, 20].values\n",
    "from sklearn.preprocessing import StandardScaler\n",
    "sc_X = StandardScaler()\n",
    "# we put fit.transform on training data but in test just transform it \n",
    "X_train, X_test, y_train, y_test = train_test_split(X, y, test_size = 0.1 , random_state=0)\n",
    "labelEncoder_Y = LabelEncoder()\n",
    "y_train= labelEncoder_Y.fit_transform(y_train)\n",
    "C50.C5_0(X_train[:,1],y_train)"
   ]
  },
  {
   "cell_type": "code",
   "execution_count": null,
   "metadata": {},
   "outputs": [],
   "source": []
  }
 ],
 "metadata": {
  "kernelspec": {
   "display_name": "Python 3",
   "language": "python",
   "name": "python3"
  },
  "language_info": {
   "codemirror_mode": {
    "name": "ipython",
    "version": 3
   },
   "file_extension": ".py",
   "mimetype": "text/x-python",
   "name": "python",
   "nbconvert_exporter": "python",
   "pygments_lexer": "ipython3",
   "version": "3.7.6"
  }
 },
 "nbformat": 4,
 "nbformat_minor": 4
}
